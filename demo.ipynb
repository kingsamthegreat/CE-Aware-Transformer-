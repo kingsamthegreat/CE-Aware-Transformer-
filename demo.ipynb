{
  "cells": [
    {
      "cell_type": "markdown",
      "metadata": {},
      "source": [
        "# CE Simulation Demo\n",
        "\n",
        "This notebook demonstrates a minimal CE (`CE = I \u00d7 A \u00d7 \u0398`) layer and a small\n",
        "toy forward pass. It uses a PyTorch implementation located at `src/ce_layer.py`.\n",
        "\n",
        "The goal is to provide a runnable seed that shows how the CE layer processes\n",
        "a batch of random inputs and produces a CE-modulated output tensor."
      ]
    },
    {
      "cell_type": "code",
      "execution_count": null,
      "metadata": {},
      "outputs": [],
      "source": [
        "# Basic imports\n",
        "import torch\n",
        "from src.ce_layer import CELayer\n",
        "import matplotlib.pyplot as plt\n",
        "import numpy as np\n",
        "\n",
        "print('torch version:', torch.__version__)\n",
        "\n",
        "# Create random input\n",
        "batch, seq, dim = 4, 16, 32\n",
        "x = torch.randn(batch, seq, dim)\n",
        "\n",
        "# Instantiate layer and run forward\n",
        "layer = CELayer(dim)\n",
        "out = layer(x)\n",
        "\n",
        "print('Input shape:', x.shape)\n",
        "print('Output shape:', out.shape)\n",
        "print('CE output mean:', out.mean().item())\n",
        "\n",
        "# Visualize the mean CE per time-step\n",
        "ce_timestep_mean = out.mean(dim=2).mean(dim=0).detach().cpu().numpy()\n",
        "plt.figure(figsize=(8,3))\n",
        "plt.plot(ce_timestep_mean)\n",
        "plt.title('Mean CE value per time-step')\n",
        "plt.xlabel('time-step')\n",
        "plt.ylabel('mean CE')\n",
        "plt.grid(True)\n",
        "plt.show()\n"
      ]
    }
  ],
  "metadata": {
    "kernelspec": {
      "display_name": "Python 3",
      "language": "python",
      "name": "python3"
    },
    "language_info": {
      "name": "python",
      "version": "3.10"
    }
  },
  "nbformat": 4,
  "nbformat_minor": 2
}